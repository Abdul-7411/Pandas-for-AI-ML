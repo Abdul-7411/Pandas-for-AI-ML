{
 "cells": [
  {
   "cell_type": "markdown",
   "id": "e4770375",
   "metadata": {},
   "source": [
    "## DataFrame\n",
    "The combination of series is known as Dataframe."
   ]
  },
  {
   "cell_type": "code",
   "execution_count": 3,
   "id": "35718d9a",
   "metadata": {},
   "outputs": [],
   "source": [
    "import numpy as np\n",
    "import pandas as pd"
   ]
  },
  {
   "cell_type": "code",
   "execution_count": 4,
   "id": "d65812a4",
   "metadata": {},
   "outputs": [
    {
     "name": "stdout",
     "output_type": "stream",
     "text": [
      "    Name  Age      City  Salary\n",
      "0   John   28  New York   65000\n",
      "1   Anna   34     Paris   70000\n",
      "2  Peter   29    Berlin   62000\n",
      "3  Linda   42    London   85000\n"
     ]
    }
   ],
   "source": [
    "data = {\n",
    "    'Name': ['John', 'Anna', 'Peter', 'Linda'],\n",
    "    'Age': [28, 34, 29, 42],\n",
    "    'City': ['New York', 'Paris', 'Berlin', 'London'],\n",
    "    'Salary': [65000, 70000, 62000, 85000]\n",
    "}\n",
    "df = pd.DataFrame(data)\n",
    "print(df)"
   ]
  },
  {
   "cell_type": "code",
   "execution_count": 5,
   "id": "7b61a897",
   "metadata": {},
   "outputs": [
    {
     "name": "stdout",
     "output_type": "stream",
     "text": [
      "    Name  Age      City  Salary\n",
      "0   John   28  New York   65000\n",
      "1   Anna   34     Paris   70000\n",
      "2  Peter   29    Berlin   62000\n",
      "3  Linda   42    London   85000\n"
     ]
    }
   ],
   "source": [
    "data_list = [\n",
    "    ['John', 28, 'New York', 65000],\n",
    "    ['Anna', 34, 'Paris', 70000],\n",
    "    ['Peter', 29, 'Berlin', 62000],\n",
    "    ['Linda', 42, 'London', 85000]\n",
    "]\n",
    "df2 = pd.DataFrame(data_list)\n",
    "columns = [\"Name\",\"Age\",\"City\",\"Salary\"]\n",
    "df2 = pd.DataFrame(data_list,columns=columns)\n",
    "print(df2)"
   ]
  },
  {
   "cell_type": "markdown",
   "id": "9d791b5c",
   "metadata": {},
   "source": [
    "Selction and indexing of columns"
   ]
  },
  {
   "cell_type": "code",
   "execution_count": 6,
   "id": "1d27b519",
   "metadata": {},
   "outputs": [
    {
     "name": "stdout",
     "output_type": "stream",
     "text": [
      "    Name  Age      City  Salary\n",
      "0   John   28  New York   65000\n",
      "1   Anna   34     Paris   70000\n",
      "2  Peter   29    Berlin   62000\n",
      "3  Linda   42    London   85000\n"
     ]
    }
   ],
   "source": [
    "print(df2)"
   ]
  },
  {
   "cell_type": "code",
   "execution_count": 7,
   "id": "bdcedae8",
   "metadata": {},
   "outputs": [
    {
     "name": "stdout",
     "output_type": "stream",
     "text": [
      "0     John\n",
      "1     Anna\n",
      "2    Peter\n",
      "3    Linda\n",
      "Name: Name, dtype: object\n",
      "\n",
      "    Name      City\n",
      "0   John  New York\n",
      "1   Anna     Paris\n",
      "2  Peter    Berlin\n",
      "3  Linda    London\n"
     ]
    }
   ],
   "source": [
    "# If i want to print the column of Name \n",
    "print(df2['Name'])\n",
    "\n",
    "# If i want to print the multiple columns \n",
    "print(f\"\\n{df2[['Name','City']]}\")"
   ]
  },
  {
   "cell_type": "markdown",
   "id": "a4ab2daa",
   "metadata": {},
   "source": [
    "Creating a new column"
   ]
  },
  {
   "cell_type": "code",
   "execution_count": 8,
   "id": "108af305",
   "metadata": {},
   "outputs": [
    {
     "name": "stdout",
     "output_type": "stream",
     "text": [
      "    Name  Age      City  Salary Designation\n",
      "0   John   28  New York   65000      Doctor\n",
      "1   Anna   34     Paris   70000        Engg\n",
      "2  Peter   29    Berlin   62000      Doctor\n",
      "3  Linda   42    London   85000        Engg\n"
     ]
    }
   ],
   "source": [
    "df2['Designation'] = [\"Doctor\",\"Engg\",'Doctor',\"Engg\"]\n",
    "print(df2)"
   ]
  },
  {
   "cell_type": "markdown",
   "id": "eaf62d4a",
   "metadata": {},
   "source": [
    "Removing Columns"
   ]
  },
  {
   "cell_type": "code",
   "execution_count": 9,
   "id": "5cdcf4b4",
   "metadata": {},
   "outputs": [],
   "source": [
    "# For removing columns we use drop() method.\n",
    "# print(df2.drop('Designation',axis=1))# it gives a copy but it nor remove it permanently \n",
    "\n",
    "# For removing it permanently we use below method\n",
    "df2.drop('Designation',axis=1,inplace=True)\n"
   ]
  },
  {
   "cell_type": "code",
   "execution_count": 10,
   "id": "81e1fdb0",
   "metadata": {},
   "outputs": [
    {
     "name": "stdout",
     "output_type": "stream",
     "text": [
      "    Name  Age      City  Salary\n",
      "0   John   28  New York   65000\n",
      "1   Anna   34     Paris   70000\n",
      "2  Peter   29    Berlin   62000\n",
      "3  Linda   42    London   85000\n"
     ]
    }
   ],
   "source": [
    "# It get removes permanently.\n",
    "print(df2) \n"
   ]
  },
  {
   "cell_type": "markdown",
   "id": "00fe0ff8",
   "metadata": {},
   "source": [
    "Selecting rows"
   ]
  },
  {
   "cell_type": "code",
   "execution_count": 11,
   "id": "47f979e9",
   "metadata": {},
   "outputs": [
    {
     "name": "stdout",
     "output_type": "stream",
     "text": [
      "    Name  Age      City  Salary\n",
      "0   John   28  New York   65000\n",
      "1   Anna   34     Paris   70000\n",
      "2  Peter   29    Berlin   62000\n",
      "3  Linda   42    London   85000\n"
     ]
    }
   ],
   "source": [
    "print(df2)"
   ]
  },
  {
   "cell_type": "code",
   "execution_count": 12,
   "id": "184fcd99",
   "metadata": {},
   "outputs": [
    {
     "name": "stdout",
     "output_type": "stream",
     "text": [
      "Name          John\n",
      "Age             28\n",
      "City      New York\n",
      "Salary       65000\n",
      "Name: 0, dtype: object\n",
      "\n",
      "    Name  Age      City  Salary\n",
      "0   John   28  New York   65000\n",
      "3  Linda   42    London   85000\n",
      "\n",
      "Name       Peter\n",
      "Age           29\n",
      "City      Berlin\n",
      "Salary     62000\n",
      "Name: 2, dtype: object\n"
     ]
    }
   ],
   "source": [
    "## For selecting the rows we use below syntax\n",
    "print(df2.loc[0])\n",
    "\n",
    "## For selecting multiple rows\n",
    "print(f\"\\n{df2.loc[[0,3]]}\")\n",
    "\n",
    "# For selecting by index value we use iloc[]\n",
    "print(f\"\\n{df2.iloc[2]}\")"
   ]
  },
  {
   "cell_type": "markdown",
   "id": "a2da4a7a",
   "metadata": {},
   "source": [
    "Selecting the subset of rows and columns"
   ]
  },
  {
   "cell_type": "code",
   "execution_count": 13,
   "id": "f8d181ac",
   "metadata": {},
   "outputs": [
    {
     "name": "stdout",
     "output_type": "stream",
     "text": [
      "       City  Salary\n",
      "0  New York   65000\n",
      "1     Paris   70000\n"
     ]
    }
   ],
   "source": [
    "print(df2.loc[[0,1]][[\"City\",\"Salary\"]])"
   ]
  },
  {
   "cell_type": "code",
   "execution_count": 18,
   "id": "221daf87",
   "metadata": {},
   "outputs": [
    {
     "name": "stdout",
     "output_type": "stream",
     "text": [
      "    Name  Age      City  Salary\n",
      "0   John   28  New York   65000\n",
      "1   Anna   34     Paris   70000\n",
      "2  Peter   29    Berlin   62000\n",
      "3  Linda   42    London   85000\n"
     ]
    },
    {
     "data": {
      "text/html": [
       "<div>\n",
       "<style scoped>\n",
       "    .dataframe tbody tr th:only-of-type {\n",
       "        vertical-align: middle;\n",
       "    }\n",
       "\n",
       "    .dataframe tbody tr th {\n",
       "        vertical-align: top;\n",
       "    }\n",
       "\n",
       "    .dataframe thead th {\n",
       "        text-align: right;\n",
       "    }\n",
       "</style>\n",
       "<table border=\"1\" class=\"dataframe\">\n",
       "  <thead>\n",
       "    <tr style=\"text-align: right;\">\n",
       "      <th></th>\n",
       "      <th>Name</th>\n",
       "      <th>Age</th>\n",
       "    </tr>\n",
       "  </thead>\n",
       "  <tbody>\n",
       "    <tr>\n",
       "      <th>2</th>\n",
       "      <td>Peter</td>\n",
       "      <td>29</td>\n",
       "    </tr>\n",
       "    <tr>\n",
       "      <th>3</th>\n",
       "      <td>Linda</td>\n",
       "      <td>42</td>\n",
       "    </tr>\n",
       "  </tbody>\n",
       "</table>\n",
       "</div>"
      ],
      "text/plain": [
       "    Name  Age\n",
       "2  Peter   29\n",
       "3  Linda   42"
      ]
     },
     "execution_count": 18,
     "metadata": {},
     "output_type": "execute_result"
    }
   ],
   "source": [
    "print(df2)\n",
    "\n",
    "df2.loc[[2,3]][[\"Name\",\"Age\"]]"
   ]
  },
  {
   "cell_type": "markdown",
   "id": "89e9bbc3",
   "metadata": {},
   "source": [
    "Conditional Selection"
   ]
  },
  {
   "cell_type": "code",
   "execution_count": 15,
   "id": "ffc51046",
   "metadata": {},
   "outputs": [
    {
     "data": {
      "text/html": [
       "<div>\n",
       "<style scoped>\n",
       "    .dataframe tbody tr th:only-of-type {\n",
       "        vertical-align: middle;\n",
       "    }\n",
       "\n",
       "    .dataframe tbody tr th {\n",
       "        vertical-align: top;\n",
       "    }\n",
       "\n",
       "    .dataframe thead th {\n",
       "        text-align: right;\n",
       "    }\n",
       "</style>\n",
       "<table border=\"1\" class=\"dataframe\">\n",
       "  <thead>\n",
       "    <tr style=\"text-align: right;\">\n",
       "      <th></th>\n",
       "      <th>Name</th>\n",
       "      <th>Age</th>\n",
       "      <th>City</th>\n",
       "      <th>Salary</th>\n",
       "    </tr>\n",
       "  </thead>\n",
       "  <tbody>\n",
       "    <tr>\n",
       "      <th>1</th>\n",
       "      <td>Anna</td>\n",
       "      <td>34</td>\n",
       "      <td>Paris</td>\n",
       "      <td>70000</td>\n",
       "    </tr>\n",
       "    <tr>\n",
       "      <th>3</th>\n",
       "      <td>Linda</td>\n",
       "      <td>42</td>\n",
       "      <td>London</td>\n",
       "      <td>85000</td>\n",
       "    </tr>\n",
       "  </tbody>\n",
       "</table>\n",
       "</div>"
      ],
      "text/plain": [
       "    Name  Age    City  Salary\n",
       "1   Anna   34   Paris   70000\n",
       "3  Linda   42  London   85000"
      ]
     },
     "execution_count": 15,
     "metadata": {},
     "output_type": "execute_result"
    }
   ],
   "source": [
    "## Checking for those who's age is greater than 30\n",
    "df2[df2[\"Age\"] > 30]"
   ]
  },
  {
   "cell_type": "code",
   "execution_count": 16,
   "id": "3bc228fa",
   "metadata": {},
   "outputs": [
    {
     "data": {
      "text/html": [
       "<div>\n",
       "<style scoped>\n",
       "    .dataframe tbody tr th:only-of-type {\n",
       "        vertical-align: middle;\n",
       "    }\n",
       "\n",
       "    .dataframe tbody tr th {\n",
       "        vertical-align: top;\n",
       "    }\n",
       "\n",
       "    .dataframe thead th {\n",
       "        text-align: right;\n",
       "    }\n",
       "</style>\n",
       "<table border=\"1\" class=\"dataframe\">\n",
       "  <thead>\n",
       "    <tr style=\"text-align: right;\">\n",
       "      <th></th>\n",
       "      <th>Name</th>\n",
       "      <th>Age</th>\n",
       "      <th>City</th>\n",
       "      <th>Salary</th>\n",
       "    </tr>\n",
       "  </thead>\n",
       "  <tbody>\n",
       "    <tr>\n",
       "      <th>1</th>\n",
       "      <td>Anna</td>\n",
       "      <td>34</td>\n",
       "      <td>Paris</td>\n",
       "      <td>70000</td>\n",
       "    </tr>\n",
       "    <tr>\n",
       "      <th>3</th>\n",
       "      <td>Linda</td>\n",
       "      <td>42</td>\n",
       "      <td>London</td>\n",
       "      <td>85000</td>\n",
       "    </tr>\n",
       "  </tbody>\n",
       "</table>\n",
       "</div>"
      ],
      "text/plain": [
       "    Name  Age    City  Salary\n",
       "1   Anna   34   Paris   70000\n",
       "3  Linda   42  London   85000"
      ]
     },
     "execution_count": 16,
     "metadata": {},
     "output_type": "execute_result"
    }
   ],
   "source": [
    "# Selecting who's age is greater than 30 and they should be from paris\n",
    "\n",
    "df2[df2[\"Age\"] > 30]"
   ]
  },
  {
   "cell_type": "code",
   "execution_count": 17,
   "id": "8855600e",
   "metadata": {},
   "outputs": [
    {
     "data": {
      "text/html": [
       "<div>\n",
       "<style scoped>\n",
       "    .dataframe tbody tr th:only-of-type {\n",
       "        vertical-align: middle;\n",
       "    }\n",
       "\n",
       "    .dataframe tbody tr th {\n",
       "        vertical-align: top;\n",
       "    }\n",
       "\n",
       "    .dataframe thead th {\n",
       "        text-align: right;\n",
       "    }\n",
       "</style>\n",
       "<table border=\"1\" class=\"dataframe\">\n",
       "  <thead>\n",
       "    <tr style=\"text-align: right;\">\n",
       "      <th></th>\n",
       "      <th>Name</th>\n",
       "      <th>Age</th>\n",
       "      <th>City</th>\n",
       "      <th>Salary</th>\n",
       "    </tr>\n",
       "  </thead>\n",
       "  <tbody>\n",
       "    <tr>\n",
       "      <th>3</th>\n",
       "      <td>Linda</td>\n",
       "      <td>42</td>\n",
       "      <td>London</td>\n",
       "      <td>85000</td>\n",
       "    </tr>\n",
       "  </tbody>\n",
       "</table>\n",
       "</div>"
      ],
      "text/plain": [
       "    Name  Age    City  Salary\n",
       "3  Linda   42  London   85000"
      ]
     },
     "execution_count": 17,
     "metadata": {},
     "output_type": "execute_result"
    }
   ],
   "source": [
    "## In this we use and operator as ' &' and for or ' | '\n",
    "\n",
    "df2[(df2['Age'] > 30) & (df2['City'] == \"Paris\")]\n",
    "\n",
    "df2[(df2['Age'] > 30) & (df2['Salary'] > 70000)]"
   ]
  },
  {
   "cell_type": "code",
   "execution_count": null,
   "id": "7ee9fbab",
   "metadata": {},
   "outputs": [],
   "source": []
  }
 ],
 "metadata": {
  "kernelspec": {
   "display_name": "venv",
   "language": "python",
   "name": "python3"
  },
  "language_info": {
   "codemirror_mode": {
    "name": "ipython",
    "version": 3
   },
   "file_extension": ".py",
   "mimetype": "text/x-python",
   "name": "python",
   "nbconvert_exporter": "python",
   "pygments_lexer": "ipython3",
   "version": "3.13.0"
  }
 },
 "nbformat": 4,
 "nbformat_minor": 5
}

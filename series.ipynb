{
 "cells": [
  {
   "cell_type": "markdown",
   "id": "ddb47c32",
   "metadata": {},
   "source": [
    "## Pandas series\n",
    "A series is a one dimensional labelled array capable of holding any data type. The axix labels are collectievely called as index"
   ]
  },
  {
   "cell_type": "markdown",
   "id": "471817c7",
   "metadata": {},
   "source": [
    "## Creating series\n",
    "Multiple ways to create a series"
   ]
  },
  {
   "cell_type": "code",
   "execution_count": 3,
   "id": "0edf105c",
   "metadata": {},
   "outputs": [],
   "source": [
    "import numpy as np\n",
    "import pandas as pd"
   ]
  },
  {
   "cell_type": "code",
   "execution_count": 4,
   "id": "a77c7e74",
   "metadata": {},
   "outputs": [],
   "source": [
    "labels = ['a','b','c']\n",
    "my_list = [10,20,30]\n",
    "arr = np.array([10,20,30])\n",
    "d = {1:10,2:20,3:30}"
   ]
  },
  {
   "cell_type": "code",
   "execution_count": 5,
   "id": "2f090854",
   "metadata": {},
   "outputs": [
    {
     "name": "stdout",
     "output_type": "stream",
     "text": [
      "0    10\n",
      "1    20\n",
      "2    30\n",
      "dtype: int64\n"
     ]
    }
   ],
   "source": [
    "print(pd.Series(my_list))"
   ]
  },
  {
   "cell_type": "code",
   "execution_count": 11,
   "id": "80ef9a20",
   "metadata": {},
   "outputs": [
    {
     "name": "stdout",
     "output_type": "stream",
     "text": [
      "a    10\n",
      "b    20\n",
      "c    30\n",
      "dtype: int64\n",
      "\n",
      "0    10\n",
      "1    20\n",
      "2    30\n",
      "dtype: int64\n",
      "\n",
      "1    10\n",
      "2    20\n",
      "3    30\n",
      "dtype: int64\n"
     ]
    }
   ],
   "source": [
    "## Indexing manually putting labels manually\n",
    "print(pd.Series(my_list,index=labels))\n",
    "\n",
    "print(f\"\\n{pd.Series(arr)}\")\n",
    "\n",
    "# here while we are passing dict the keys of dict is acting as label\n",
    "print(f\"\\n{pd.Series(d)}\")"
   ]
  },
  {
   "cell_type": "code",
   "execution_count": null,
   "id": "f66479a1",
   "metadata": {},
   "outputs": [],
   "source": []
  }
 ],
 "metadata": {
  "kernelspec": {
   "display_name": "venv",
   "language": "python",
   "name": "python3"
  },
  "language_info": {
   "codemirror_mode": {
    "name": "ipython",
    "version": 3
   },
   "file_extension": ".py",
   "mimetype": "text/x-python",
   "name": "python",
   "nbconvert_exporter": "python",
   "pygments_lexer": "ipython3",
   "version": "3.13.0"
  }
 },
 "nbformat": 4,
 "nbformat_minor": 5
}
